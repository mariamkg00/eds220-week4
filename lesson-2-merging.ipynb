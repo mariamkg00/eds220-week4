{
 "cells": [
  {
   "cell_type": "markdown",
   "id": "49aa5e6d-99f8-4382-af49-fe23062c5be8",
   "metadata": {},
   "source": [
    "# GeoJSN\n",
    "\n",
    "- stands for Geographic JavaScript Object Notation\n",
    "- Open format for encoding vector data and their attributes\n",
    "- popular for web mapping applications\n",
    "- uses a single file, with extension .json, .geojson\n"
   ]
  },
  {
   "cell_type": "markdown",
   "id": "663feaab-6540-4771-83ba-a062e032b6dd",
   "metadata": {},
   "source": [
    "Data in a GeoJSN is stored as attribute value pairs \n",
    "- kind of like dictionaries"
   ]
  },
  {
   "cell_type": "markdown",
   "id": "3acd1771-e763-475d-ab18-4557a38d54d6",
   "metadata": {},
   "source": [
    "# Merging Data \n",
    "\n",
    "- Inner join : when you merge the subset of rows that have matches in both the left table and the right table. \n",
    "- Left join: takes all the rows from the left table, and merges on the data from matching rows in the right table. Keys that don't match from the left table are still provided with a missing value from the right table. \n",
    "- Full outer join - includes all data from both datasets. "
   ]
  }
 ],
 "metadata": {
  "kernelspec": {
   "display_name": "Anaconda 3 (Base)",
   "language": "python",
   "name": "base"
  },
  "language_info": {
   "codemirror_mode": {
    "name": "ipython",
    "version": 3
   },
   "file_extension": ".py",
   "mimetype": "text/x-python",
   "name": "python",
   "nbconvert_exporter": "python",
   "pygments_lexer": "ipython3",
   "version": "3.9.13"
  }
 },
 "nbformat": 4,
 "nbformat_minor": 5
}
